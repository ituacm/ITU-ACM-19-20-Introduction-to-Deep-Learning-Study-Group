{
  "nbformat": 4,
  "nbformat_minor": 0,
  "metadata": {
    "colab": {
      "name": "NumPy_tutorial.ipynb",
      "provenance": [],
      "collapsed_sections": []
    },
    "kernelspec": {
      "name": "python3",
      "display_name": "Python 3"
    },
    "accelerator": "GPU"
  },
  "cells": [
    {
      "cell_type": "code",
      "metadata": {
        "id": "2xwov-SQMDL1",
        "colab_type": "code",
        "colab": {}
      },
      "source": [
        "import numpy as np"
      ],
      "execution_count": 0,
      "outputs": []
    },
    {
      "cell_type": "code",
      "metadata": {
        "id": "qk213dfaS3RN",
        "colab_type": "code",
        "outputId": "bbe30f5c-0174-4f1e-b389-dbdf31020960",
        "colab": {
          "base_uri": "https://localhost:8080/",
          "height": 237
        }
      },
      "source": [
        "#array creation\n",
        "\n",
        "array2 = np.array([1, 2])\n",
        "print(\"Array2 = \" + str(array2))\n",
        "print(\"Array2 shape \" + str(array2.shape))\n",
        "print(type(array2))\n",
        "print('\\n')\n",
        "\n",
        "array3 = np.array([[1, 2], [3, 4]])\n",
        "print(\"Array3 = \" + str(array3))\n",
        "print(\"Array4 shape: \" + str(array3.shape))\n",
        "print('\\n')\n",
        "\n",
        "array4 = np.array([[1, 2]])\n",
        "print(\"Array4 = \" + str(array4))\n",
        "print(\"Array4 shape: \" + str(array4.shape))"
      ],
      "execution_count": 3,
      "outputs": [
        {
          "output_type": "stream",
          "text": [
            "Array2 = [1 2]\n",
            "Array2 shape (2,)\n",
            "<class 'numpy.ndarray'>\n",
            "\n",
            "\n",
            "Array3 = [[1 2]\n",
            " [3 4]]\n",
            "Array4 shape: (2, 2)\n",
            "\n",
            "\n",
            "Array4 = [[1 2]]\n",
            "Array4 shape: (1, 2)\n"
          ],
          "name": "stdout"
        }
      ]
    },
    {
      "cell_type": "code",
      "metadata": {
        "id": "QIxNKM-TXvd8",
        "colab_type": "code",
        "outputId": "004de0cc-ad75-450b-8082-7e79965a7813",
        "colab": {
          "base_uri": "https://localhost:8080/",
          "height": 237
        }
      },
      "source": [
        "#Reshaping Arrays\n",
        "#arr.reshape(shape)\n",
        "\n",
        "array5 = array3.reshape((4, 1))\n",
        "print(\"Array5 :\\n\" + str(array5), \"\\n\\nArray3: \\n\" + str(array3))\n",
        "\n",
        "#arr.resize(shape)\n",
        "array3.resize((1, 4))\n",
        "print(\"\\nArray3 : \\n\" + str(array3))"
      ],
      "execution_count": 0,
      "outputs": [
        {
          "output_type": "stream",
          "text": [
            "Array5 :\n",
            "[[1]\n",
            " [2]\n",
            " [3]\n",
            " [4]] \n",
            "\n",
            "Array3: \n",
            "[[1 2]\n",
            " [3 4]]\n",
            "\n",
            "Array3 : \n",
            "[[1 2 3 4]]\n"
          ],
          "name": "stdout"
        }
      ]
    },
    {
      "cell_type": "code",
      "metadata": {
        "id": "gZcLD-EqXDi5",
        "colab_type": "code",
        "outputId": "d49d38df-47b8-4560-adaa-f583d76a1f69",
        "colab": {
          "base_uri": "https://localhost:8080/",
          "height": 770
        }
      },
      "source": [
        "#Special Array Initialization\n",
        "\n",
        "#fill with zeros\n",
        "zero_array = np.zeros((5, 5))\n",
        "print(\"Zeros array:\\n\" + str(zero_array))\n",
        "\n",
        "#fill with ones\n",
        "ones_array = np.ones((5, 5))\n",
        "print(\"\\nOnes array:\\n\" + str(ones_array))\n",
        "\n",
        "#fill with certain value\n",
        "array3 = np.full((5, 5), 420)\n",
        "print(\"\\nCertain Valued Array:\\n\" + str(array3))\n",
        "\n",
        "#identity array\n",
        "id_arr = np.eye(5, 5)\n",
        "print(\"\\nIdentity Array:\\n\" + str(id_arr))\n",
        "\n",
        "#random valued arrays [0,1)\n",
        "\n",
        "rand_arr1 = np.random.rand(5, 5)\n",
        "print(\"\\nRandomized Array:\\n\"+str(rand_arr1))\n",
        "\n",
        "#distributed standart normal deviation\n",
        "rand_arr2 = np.random.randn(5, 5)\n",
        "print(\"\\nRandomized Array2:\\n\" + str(rand_arr2))"
      ],
      "execution_count": 0,
      "outputs": [
        {
          "output_type": "stream",
          "text": [
            "Zeros array:\n",
            "[[0. 0. 0. 0. 0.]\n",
            " [0. 0. 0. 0. 0.]\n",
            " [0. 0. 0. 0. 0.]\n",
            " [0. 0. 0. 0. 0.]\n",
            " [0. 0. 0. 0. 0.]]\n",
            "\n",
            "Ones array:\n",
            "[[1. 1. 1. 1. 1.]\n",
            " [1. 1. 1. 1. 1.]\n",
            " [1. 1. 1. 1. 1.]\n",
            " [1. 1. 1. 1. 1.]\n",
            " [1. 1. 1. 1. 1.]]\n",
            "\n",
            "Certain Valued Array:\n",
            "[[420 420 420 420 420]\n",
            " [420 420 420 420 420]\n",
            " [420 420 420 420 420]\n",
            " [420 420 420 420 420]\n",
            " [420 420 420 420 420]]\n",
            "\n",
            "Identity Array:\n",
            "[[1. 0. 0. 0. 0.]\n",
            " [0. 1. 0. 0. 0.]\n",
            " [0. 0. 1. 0. 0.]\n",
            " [0. 0. 0. 1. 0.]\n",
            " [0. 0. 0. 0. 1.]]\n",
            "\n",
            "Randomized Array:\n",
            "[[0.36167077 0.11832052 0.55417038 0.02104903 0.91846544]\n",
            " [0.97728565 0.39926083 0.50501568 0.59746547 0.51384948]\n",
            " [0.87186858 0.99529919 0.51730905 0.5661201  0.2584617 ]\n",
            " [0.40778097 0.91705336 0.23269842 0.80289503 0.14516506]\n",
            " [0.35870182 0.78633498 0.41069322 0.90580429 0.48550738]]\n",
            "\n",
            "Randomized Array2:\n",
            "[[ 1.94796512 -0.4351993   0.85872544 -0.61407851 -0.46670109]\n",
            " [-0.24439679  0.96538974 -0.15477649 -2.47459828  1.05948555]\n",
            " [-0.09748698  0.95564939  0.10705128 -1.14735714 -0.1997135 ]\n",
            " [ 0.58502339  1.45312383 -0.42779892 -0.33978852  0.14800399]\n",
            " [-0.69991815  1.45466672 -0.79737895  0.69969476 -0.54063409]]\n"
          ],
          "name": "stdout"
        }
      ]
    },
    {
      "cell_type": "code",
      "metadata": {
        "id": "tly0RNChdlnC",
        "colab_type": "code",
        "outputId": "e5fcc758-baef-4ba8-c06a-61a1356a6ed6",
        "colab": {
          "base_uri": "https://localhost:8080/",
          "height": 495
        }
      },
      "source": [
        "#array indexing\n",
        "\n",
        "random_array = np.random.randn(5,5)\n",
        "\n",
        "print(random_array)\n",
        "\n",
        "print('\\nFirst row of the array:\\n')\n",
        "print(random_array[0])\n",
        "\n",
        "print('\\nFirst column of the array:\\n')\n",
        "print(random_array[:, 0])\n",
        "\n",
        "print('\\nFirst and last rows of the array:\\n')\n",
        "print(random_array[[0, 4], :])\n",
        "\n",
        "print('\\nSpecified elements of array:\\n')\n",
        "print(random_array[[0, 1, 4], [1, 2, 3]])\n",
        "\n",
        "print('\\nDiagonal of random array:\\n')\n",
        "print(np.diagonal(random_array))"
      ],
      "execution_count": 13,
      "outputs": [
        {
          "output_type": "stream",
          "text": [
            "[[ 0.6733486  -1.33206964 -0.6259248   0.85520855  0.68015605]\n",
            " [ 1.06402289  2.12570672 -0.66845859 -1.22054423  0.59566371]\n",
            " [-0.82983149 -1.10963659  0.72973012  1.41846562  0.57178663]\n",
            " [-1.08419375  0.01700259 -0.21712392  0.33136416  1.23218517]\n",
            " [-2.12138718 -0.32071895  0.59985209  0.75312626 -0.36532561]]\n",
            "\n",
            "First row of the array:\n",
            "\n",
            "[ 0.6733486  -1.33206964 -0.6259248   0.85520855  0.68015605]\n",
            "\n",
            "First column of the array:\n",
            "\n",
            "[ 0.6733486   1.06402289 -0.82983149 -1.08419375 -2.12138718]\n",
            "\n",
            "First and last rows of the array:\n",
            "\n",
            "[[ 0.6733486  -1.33206964 -0.6259248   0.85520855  0.68015605]\n",
            " [-2.12138718 -0.32071895  0.59985209  0.75312626 -0.36532561]]\n",
            "\n",
            "Specified elements of diagonal:\n",
            "\n",
            "[-1.33206964 -0.66845859  0.75312626]\n",
            "\n",
            "Diagonal of random array:\n",
            "\n",
            "[ 0.6733486   2.12570672  0.72973012  0.33136416 -0.36532561]\n"
          ],
          "name": "stdout"
        }
      ]
    },
    {
      "cell_type": "code",
      "metadata": {
        "id": "3AFWCmLPgkzU",
        "colab_type": "code",
        "outputId": "af0b4204-b26a-4a90-920f-5d4c5c7aac89",
        "colab": {
          "base_uri": "https://localhost:8080/",
          "height": 237
        }
      },
      "source": [
        "random_array2 = np.random.randn(5, 5)\n",
        "print(random_array2)\n",
        "\n",
        "random_bool_array = random_array2 >= 0\n",
        "print(\"\\nBool Array:\")\n",
        "print(random_bool_array)"
      ],
      "execution_count": 0,
      "outputs": [
        {
          "output_type": "stream",
          "text": [
            "[[-0.85882014 -1.44876895  0.31240715 -0.15561012  0.80581399]\n",
            " [-0.53131211  1.51428098  0.1272938   0.49908999 -0.1333367 ]\n",
            " [-1.23239668 -0.20822807 -0.32938801  1.70440833 -1.23026427]\n",
            " [ 1.46936634 -0.65560674  1.62011084  0.08997262 -0.47591055]\n",
            " [ 0.47607628 -0.62859604 -0.66384045 -0.53558791 -0.93513312]]\n",
            "\n",
            "Bool Array:\n",
            "[[False False  True False  True]\n",
            " [False  True  True  True False]\n",
            " [False False False  True False]\n",
            " [ True False  True  True False]\n",
            " [ True False False False False]]\n"
          ],
          "name": "stdout"
        }
      ]
    },
    {
      "cell_type": "code",
      "metadata": {
        "id": "EsVjp0LMhEwW",
        "colab_type": "code",
        "outputId": "67dac2bd-4cdb-421f-ac92-22b89cbc666e",
        "colab": {
          "base_uri": "https://localhost:8080/",
          "height": 366
        }
      },
      "source": [
        "#Elementwise array operations\n",
        "\n",
        "arr1 = np.array([[1, 2, 3], [1, 2, 3], [1, 2, 3]])\n",
        "arr2 = np.array([[4, 5, 6], [4, 5, 6], [4, 5, 6]])\n",
        "\n",
        "print(\"Array addition(elementwise):\")\n",
        "#print(arr1 + arr2)\n",
        "print(np.add(arr1, arr2))\n",
        "\n",
        "print(\"\\nArray subtraction(elementwise):\")\n",
        "#print(arr2 - arr1)\n",
        "print(np.subtract(arr2, arr1))\n",
        "\n",
        "print(\"\\nArray multiplication(elementwise):\")\n",
        "#print(arr2 * arr1)\n",
        "print(np.multiply(arr2, arr1))\n",
        "\n",
        "print(\"\\nArray division(elementwise):\")\n",
        "#print(arr2 / arr1)\n",
        "print(np.divide(arr2, arr1))"
      ],
      "execution_count": 0,
      "outputs": [
        {
          "output_type": "stream",
          "text": [
            "Array addition(elementwise):\n",
            "[[5 7 9]\n",
            " [5 7 9]\n",
            " [5 7 9]]\n",
            "\n",
            "Array subtraction(elementwise):\n",
            "[[3 3 3]\n",
            " [3 3 3]\n",
            " [3 3 3]]\n",
            "\n",
            "Array multiplication(elementwise):\n",
            "[[ 4 10 18]\n",
            " [ 4 10 18]\n",
            " [ 4 10 18]]\n",
            "\n",
            "Array division(elementwise):\n",
            "[[4.  2.5 2. ]\n",
            " [4.  2.5 2. ]\n",
            " [4.  2.5 2. ]]\n"
          ],
          "name": "stdout"
        }
      ]
    },
    {
      "cell_type": "code",
      "metadata": {
        "id": "VXAHXw5JhFB3",
        "colab_type": "code",
        "outputId": "aeaf997d-0507-40f2-d310-b155ab218f89",
        "colab": {
          "base_uri": "https://localhost:8080/",
          "height": 329
        }
      },
      "source": [
        "#sum function\n",
        "\n",
        "print(arr1, '\\n')\n",
        "print(np.sum(arr1), '\\n')\n",
        "\n",
        "print(np.sum(arr1, axis = 0), '\\n')\n",
        "print(np.sum(arr1, axis = 0, keepdims=True), '\\n')\n",
        "\n",
        "print(np.sum(arr1, axis=1), '\\n')\n",
        "print(np.sum(arr1, axis=1, keepdims=True), '\\n')\n",
        "\n",
        "#transpose\n",
        "\n",
        "not_symmetric_array = np.random.randn(5,7)\n",
        "print(not_symmetric_array.T.shape)\n"
      ],
      "execution_count": 0,
      "outputs": [
        {
          "output_type": "stream",
          "text": [
            "[[1 2 3]\n",
            " [1 2 3]\n",
            " [1 2 3]] \n",
            "\n",
            "18 \n",
            "\n",
            "[3 6 9] \n",
            "\n",
            "[[3 6 9]] \n",
            "\n",
            "[6 6 6] \n",
            "\n",
            "[[6]\n",
            " [6]\n",
            " [6]] \n",
            "\n",
            "(7, 5)\n"
          ],
          "name": "stdout"
        }
      ]
    },
    {
      "cell_type": "code",
      "metadata": {
        "id": "AhNKAPhafdTi",
        "colab_type": "code",
        "outputId": "f9714a55-9483-4dca-af01-c0cd415b039d",
        "colab": {
          "base_uri": "https://localhost:8080/",
          "height": 306
        }
      },
      "source": [
        "import time\n",
        "#vectorization\n",
        "\n",
        "rand_arr1 = np.random.randn(1000,)\n",
        "rand_arr2 = np.random.randn(1000,)\n",
        "\n",
        "#Classic Dot Product\n",
        "temp = 0\n",
        "tik = time.process_time()\n",
        "for i in range(1000):\n",
        "  temp = temp + float(rand_arr1[i]*rand_arr2[i])\n",
        "tok = time.process_time()\n",
        "print(\"Without vectorization (in milliseconds): \"+str((tok-tik)*1000))\n",
        "\n",
        "tik = time.time()\n",
        "temp = np.dot(rand_arr1, rand_arr2)\n",
        "tok = time.time()\n",
        "print(\"\\nWith vectorization (in milliseconds): \" +str((tok-tik)*1000))\n",
        "\n",
        "print(\"\\n------------------------------------------------------------\\n\")\n",
        "\n",
        "#Outer Product\n",
        "tic = time.process_time()\n",
        "outer = np.zeros((len(rand_arr1),len(rand_arr2)))\n",
        "for i in range(len(rand_arr1)):\n",
        "    for j in range(len(rand_arr2)):\n",
        "        outer[i,j] = rand_arr1[i]*rand_arr2[j]\n",
        "toc = time.process_time()\n",
        "print(\"\\nOuter Product without vectorization (in milliseconds): \" + str((toc-tic)*1000))\n",
        "\n",
        "tic = time.process_time()\n",
        "outer = np.zeros((len(rand_arr1),len(rand_arr2)))\n",
        "outer = np.outer(rand_arr1, rand_arr2)\n",
        "toc = time.process_time()\n",
        "print(\"\\nOuter Product: with vectorization (in milliseconds): \" + str((toc-tic)*1000))\n",
        "\n",
        "print(\"\\n------------------------------------------------------------\\n\")\n",
        "\n",
        "#Elementwise Multiplication\n",
        "mul = np.zeros((1000,))\n",
        "tik = time.process_time()\n",
        "for i in range(1000):\n",
        "    mul[i] = rand_arr1[i]*rand_arr2[i]\n",
        "tok = time.process_time()\n",
        "print(\"\\nElementwise multiplication without vectorization(in milliseconds): \"+str((tok-tik)*1000))\n",
        "\n",
        "\n",
        "tik = time.process_time()\n",
        "mul = np.multiply(rand_arr1, rand_arr2)\n",
        "tok = time.process_time()\n",
        "print(\"\\nElementwise multiplication with vectorization(in milliseconds): \"+str((tok-tik)*1000))"
      ],
      "execution_count": 0,
      "outputs": [
        {
          "output_type": "stream",
          "text": [
            "Without vectorization (in milliseconds): 1.0973399999998357\n",
            "\n",
            "With vectorization (in milliseconds): 0.13303756713867188\n",
            "\n",
            "------------------------------------------------------------\n",
            "\n",
            "\n",
            "Outer Product without vectorization (in milliseconds): 510.397143\n",
            "\n",
            "Outer Product: with vectorization (in milliseconds): 4.532780999999986\n",
            "\n",
            "------------------------------------------------------------\n",
            "\n",
            "\n",
            "Elementwise multiplication without vectorization(in milliseconds): 0.5132750000003128\n",
            "\n",
            "Elementwise multiplication with vectorization(in milliseconds): 0.05262200000011319\n"
          ],
          "name": "stdout"
        }
      ]
    },
    {
      "cell_type": "code",
      "metadata": {
        "id": "4bhDGAftrhV9",
        "colab_type": "code",
        "colab": {}
      },
      "source": [
        ""
      ],
      "execution_count": 0,
      "outputs": []
    }
  ]
}